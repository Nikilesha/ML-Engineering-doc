{
 "cells": [
  {
   "cell_type": "markdown",
   "id": "fb36404c",
   "metadata": {},
   "source": [
    "# Numpy Basics\n",
    "\n",
    "\n",
    "### How to create an array using numpy"
   ]
  },
  {
   "cell_type": "code",
   "execution_count": null,
   "id": "314f36fa",
   "metadata": {},
   "outputs": [
    {
     "name": "stdout",
     "output_type": "stream",
     "text": [
      "[1 2 3 4 5]\n",
      "3\n",
      "[ 1  2 10  4  5]\n"
     ]
    }
   ],
   "source": [
    "import numpy as np\n",
    "\n",
    "a = np.array([1, 2, 3, 4, 5])\n",
    "print(a)\n",
    "print(a[2])\n",
    "a[2] = 10\n",
    "print(a)"
   ]
  },
  {
   "cell_type": "markdown",
   "id": "64d4ca59",
   "metadata": {},
   "source": [
    "### The dimensional values\n"
   ]
  },
  {
   "cell_type": "code",
   "execution_count": 41,
   "id": "1a303cdd",
   "metadata": {},
   "outputs": [
    {
     "name": "stdout",
     "output_type": "stream",
     "text": [
      "2\n",
      "(3, 3)\n",
      "2\n",
      "9\n",
      "int64\n"
     ]
    }
   ],
   "source": [
    "a_mul = np.array([[1, 2, 3], [4, 5, 6], [7, 8, 9]])\n",
    "print(a_mul[0][1])\n",
    "print(a_mul.shape)\n",
    "print(a_mul.ndim)\n",
    "print(a_mul.size)\n",
    "print(a_mul.dtype)"
   ]
  },
  {
   "cell_type": "markdown",
   "id": "1cc988d5",
   "metadata": {},
   "source": [
    "### accessing the data type of each element"
   ]
  },
  {
   "cell_type": "code",
   "execution_count": null,
   "id": "5ae740ce",
   "metadata": {},
   "outputs": [
    {
     "name": "stdout",
     "output_type": "stream",
     "text": [
      "float64\n",
      "float64\n",
      "7.0\n"
     ]
    }
   ],
   "source": [
    "a = np.array([[1, 2, 3], [4, 5, 6], [\"7\", 8, 9]], dtype=np.float64)\n",
    "\n",
    "print(a.dtype)\n",
    "print(a[1][0].dtype)\n",
    "print(a[2][0])"
   ]
  },
  {
   "cell_type": "markdown",
   "id": "ccd6a64c",
   "metadata": {},
   "source": [
    "### options like creating an array with single values"
   ]
  },
  {
   "cell_type": "code",
   "execution_count": null,
   "id": "ea93a8e6",
   "metadata": {},
   "outputs": [
    {
     "name": "stdout",
     "output_type": "stream",
     "text": [
      "[[1 1 1]\n",
      " [1 1 1]]\n",
      "\n",
      "\n",
      "[[1. 1. 1. 1. 1.]]\n",
      "\n",
      "\n",
      "[[5.e-324 5.e-324]\n",
      " [5.e-324 5.e-324]\n",
      " [5.e-324 5.e-324]]\n"
     ]
    }
   ],
   "source": [
    "a = np.full((2, 3), 1)\n",
    "print(a)\n",
    "\n",
    "print(\"\\n\")\n",
    "\n",
    "b = np.ones((1, 5))\n",
    "print(b)\n",
    "\n",
    "print(\"\\n\")\n",
    "\n",
    "c = np.empty((3, 2))\n",
    "print(c)"
   ]
  },
  {
   "cell_type": "markdown",
   "id": "69be4502",
   "metadata": {},
   "source": [
    "### Creating random datas from a given range with intervals"
   ]
  },
  {
   "cell_type": "code",
   "execution_count": null,
   "id": "dc880cfc",
   "metadata": {},
   "outputs": [
    {
     "name": "stdout",
     "output_type": "stream",
     "text": [
      "[  0  15  30  45  60  75  90 105 120 135 150 165 180 195 210 225 240 255\n",
      " 270 285 300 315 330 345 360 375 390 405 420 435 450 465 480 495 510 525\n",
      " 540 555 570 585 600 615 630 645 660 675 690 705 720 735 750 765 780 795\n",
      " 810 825 840 855 870 885 900 915 930 945 960 975 990]\n",
      "\n",
      "\n",
      "[0.         0.02020202 0.04040404 0.06060606 0.08080808 0.1010101\n",
      " 0.12121212 0.14141414 0.16161616 0.18181818 0.2020202  0.22222222\n",
      " 0.24242424 0.26262626 0.28282828 0.3030303  0.32323232 0.34343434\n",
      " 0.36363636 0.38383838 0.4040404  0.42424242 0.44444444 0.46464646\n",
      " 0.48484848 0.50505051 0.52525253 0.54545455 0.56565657 0.58585859\n",
      " 0.60606061 0.62626263 0.64646465 0.66666667 0.68686869 0.70707071\n",
      " 0.72727273 0.74747475 0.76767677 0.78787879 0.80808081 0.82828283\n",
      " 0.84848485 0.86868687 0.88888889 0.90909091 0.92929293 0.94949495\n",
      " 0.96969697 0.98989899 1.01010101 1.03030303 1.05050505 1.07070707\n",
      " 1.09090909 1.11111111 1.13131313 1.15151515 1.17171717 1.19191919\n",
      " 1.21212121 1.23232323 1.25252525 1.27272727 1.29292929 1.31313131\n",
      " 1.33333333 1.35353535 1.37373737 1.39393939 1.41414141 1.43434343\n",
      " 1.45454545 1.47474747 1.49494949 1.51515152 1.53535354 1.55555556\n",
      " 1.57575758 1.5959596  1.61616162 1.63636364 1.65656566 1.67676768\n",
      " 1.6969697  1.71717172 1.73737374 1.75757576 1.77777778 1.7979798\n",
      " 1.81818182 1.83838384 1.85858586 1.87878788 1.8989899  1.91919192\n",
      " 1.93939394 1.95959596 1.97979798 2.        ]\n"
     ]
    }
   ],
   "source": [
    "x_val = np.arange(0, 1000, 15)\n",
    "print(x_val)\n",
    "\n",
    "print(\"\\n\")\n",
    "\n",
    "y_val = np.linspace(0, 2, 100)\n",
    "print(y_val)"
   ]
  },
  {
   "cell_type": "markdown",
   "id": "12be348d",
   "metadata": {},
   "source": [
    "### Learning about Null and Infinite values"
   ]
  },
  {
   "cell_type": "code",
   "execution_count": null,
   "id": "227e1c5c",
   "metadata": {},
   "outputs": [
    {
     "name": "stdout",
     "output_type": "stream",
     "text": [
      "nan\n",
      "inf\n",
      "True\n",
      "False\n"
     ]
    }
   ],
   "source": [
    "print(np.nan)\n",
    "print(np.inf)\n",
    "\n",
    "print(np.isnan(np.nan))\n",
    "print(np.isinf(np.nan))"
   ]
  },
  {
   "cell_type": "markdown",
   "id": "8e4eceea",
   "metadata": {},
   "source": [
    "### Operations that can be done in numpy which cannot be done in list concept\n",
    "\n"
   ]
  },
  {
   "cell_type": "code",
   "execution_count": null,
   "id": "e9b538c1",
   "metadata": {},
   "outputs": [
    {
     "name": "stdout",
     "output_type": "stream",
     "text": [
      "[1, 2, 3, 4, 5, 1, 2, 3, 4, 5]\n",
      "[ 2  4  6  8 10]\n",
      "[ 6  7  8  9 10]\n",
      "[-4 -3 -2 -1  0]\n",
      "[ 6 14 24 36  0]\n",
      "[0.16666667 0.28571429 0.375      0.44444444        inf]\n"
     ]
    },
    {
     "name": "stderr",
     "output_type": "stream",
     "text": [
      "C:\\Users\\nikil\\AppData\\Local\\Temp\\ipykernel_18368\\2183510233.py:13: RuntimeWarning: divide by zero encountered in divide\n",
      "  print(a1/a2)\n"
     ]
    }
   ],
   "source": [
    "l1 = [1, 2, 3, 4, 5]\n",
    "l2 = [6, 7, 8, 9, 0]\n",
    "\n",
    "a1 = np.array(l1)\n",
    "a2 = np.array(l2)\n",
    "\n",
    "print(l1 * 2)\n",
    "print(a1 * 2)\n",
    "\n",
    "print(a1 + 5)\n",
    "print(a1 - 5)\n",
    "print(a1 * a2)\n",
    "print(a1 / a2)"
   ]
  },
  {
   "cell_type": "code",
   "execution_count": null,
   "id": "a8fc2536",
   "metadata": {},
   "outputs": [
    {
     "name": "stdout",
     "output_type": "stream",
     "text": [
      "[[2 3 4]\n",
      " [3 4 5]]\n"
     ]
    }
   ],
   "source": [
    "a1 = np.array([1, 2, 3])\n",
    "a2 = np.array([[1], [2]])\n",
    "\n",
    "print(a1 + a2)"
   ]
  },
  {
   "cell_type": "markdown",
   "id": "f21ad9f5",
   "metadata": {},
   "source": [
    "### Mathematical functions in numpy"
   ]
  },
  {
   "cell_type": "code",
   "execution_count": null,
   "id": "30ce00a4",
   "metadata": {},
   "outputs": [
    {
     "name": "stdout",
     "output_type": "stream",
     "text": [
      "[[1.         1.41421356 1.73205081]\n",
      " [2.         2.23606798 2.44948974]]\n",
      "[[ 0.84147098  0.90929743  0.14112001]\n",
      " [-0.7568025  -0.95892427 -0.2794155 ]]\n",
      "[[ 0.54030231 -0.41614684 -0.9899925 ]\n",
      " [-0.65364362  0.28366219  0.96017029]]\n",
      "[[ 1.55740772 -2.18503986 -0.14254654]\n",
      " [ 1.15782128 -3.38051501 -0.29100619]]\n",
      "[[  2.71828183   7.3890561   20.08553692]\n",
      " [ 54.59815003 148.4131591  403.42879349]]\n",
      "[[0.         0.30103    0.47712125]\n",
      " [0.60205999 0.69897    0.77815125]]\n"
     ]
    }
   ],
   "source": [
    "a = np.array([[1, 2, 3], [4, 5, 6]])\n",
    "\n",
    "print(np.sqrt(a))\n",
    "print(np.sin(a))\n",
    "print(np.cos(a))\n",
    "print(np.tan(a))\n",
    "print(np.exp(a))\n",
    "print(np.log10(a))"
   ]
  },
  {
   "cell_type": "markdown",
   "id": "f3db449d",
   "metadata": {},
   "source": [
    "### data accessing functions "
   ]
  },
  {
   "cell_type": "code",
   "execution_count": null,
   "id": "d5dcfb78",
   "metadata": {},
   "outputs": [
    {
     "name": "stdout",
     "output_type": "stream",
     "text": [
      "[1 2 3 7 8 9]\n",
      "[1 2 3 4 5 6 7 8 9]\n",
      "[1 3 4 5 6 7 8 9]\n",
      "[[1 2]\n",
      " [4 5]]\n"
     ]
    }
   ],
   "source": [
    "a = np.array([1, 2, 3])\n",
    "a = np.append(a, [7, 8, 9])\n",
    "print(a)\n",
    "\n",
    "a = np.insert(a, 3, [4, 5, 6])\n",
    "print(a)\n",
    "\n",
    "print(np.delete(a, 1))\n",
    "\n",
    "a = np.array([[1, 2, 3], [4, 5, 6]])\n",
    "\n",
    "print(np.delete(a, 2, 1))"
   ]
  },
  {
   "cell_type": "markdown",
   "id": "78ca0d5c",
   "metadata": {},
   "source": [
    "### reshaping of array\n"
   ]
  },
  {
   "cell_type": "code",
   "execution_count": null,
   "id": "bad768fb",
   "metadata": {},
   "outputs": [
    {
     "name": "stdout",
     "output_type": "stream",
     "text": [
      "(2, 3)\n",
      "\n",
      "\n",
      "[[1 2]\n",
      " [3 4]\n",
      " [5 6]]\n",
      "[[1 2]\n",
      " [3 4]\n",
      " [5 6]]\n",
      "[1 2 3 4 5 6]\n",
      "[1 2 3 4 5 6]\n"
     ]
    }
   ],
   "source": [
    "a = np.array([[1, 2, 3], [4, 5, 6]])\n",
    "print(a.shape)\n",
    "print(\"\\n\")\n",
    "print(a.reshape(3, 2))\n",
    "a.resize(3, 2)\n",
    "print(a)\n",
    "\n",
    "\n",
    "print(a.flatten())\n",
    "print(a.ravel())"
   ]
  },
  {
   "cell_type": "code",
   "execution_count": null,
   "id": "2562b55e",
   "metadata": {},
   "outputs": [
    {
     "name": "stdout",
     "output_type": "stream",
     "text": [
      "[[ 1  2  3  4  5]\n",
      " [ 6  7  8  9 10]\n",
      " [11 12 13 14 15]\n",
      " [16 17 18 19 20]]\n",
      "\n",
      "\n",
      "[[ 1  6 11 16]\n",
      " [ 2  7 12 17]\n",
      " [ 3  8 13 18]\n",
      " [ 4  9 14 19]\n",
      " [ 5 10 15 20]]\n",
      "\n",
      "\n",
      "[[ 1  6 11 16]\n",
      " [ 2  7 12 17]\n",
      " [ 3  8 13 18]\n",
      " [ 4  9 14 19]\n",
      " [ 5 10 15 20]]\n",
      "\n",
      "\n",
      "[[ 1  6 11 16]\n",
      " [ 2  7 12 17]\n",
      " [ 3  8 13 18]\n",
      " [ 4  9 14 19]\n",
      " [ 5 10 15 20]]\n"
     ]
    }
   ],
   "source": [
    "a = np.array(\n",
    "    [[1, 2, 3, 4, 5], [6, 7, 8, 9, 10], [11, 12, 13, 14, 15], [16, 17, 18, 19, 20]]\n",
    ")\n",
    "print(a)\n",
    "print(\"\\n\")\n",
    "\n",
    "print(a.transpose())\n",
    "print(\"\\n\")\n",
    "print(a.T)\n",
    "print(\"\\n\")\n",
    "print(a.swapaxes(0, 1))"
   ]
  },
  {
   "cell_type": "markdown",
   "id": "f25f9acc",
   "metadata": {},
   "source": [
    "### concatinating and stacking "
   ]
  },
  {
   "cell_type": "code",
   "execution_count": null,
   "id": "a4d3ad0d",
   "metadata": {},
   "outputs": [
    {
     "name": "stdout",
     "output_type": "stream",
     "text": [
      "[[ 1  2  3  4  5 11 12 13 14 15]\n",
      " [ 6  7  8  9 10 16 17 18 19 20]]\n",
      "[[[ 1  2  3  4  5]\n",
      "  [ 6  7  8  9 10]]\n",
      "\n",
      " [[11 12 13 14 15]\n",
      "  [16 17 18 19 20]]]\n"
     ]
    }
   ],
   "source": [
    "a1 = np.array([[1, 2, 3, 4, 5], [6, 7, 8, 9, 10]])\n",
    "a2 = np.array([[11, 12, 13, 14, 15], [16, 17, 18, 19, 20]])\n",
    "a = np.concatenate((a1, a2), axis=1)\n",
    "print(a)\n",
    "\n",
    "\n",
    "b = np.stack((a1, a2))\n",
    "print(b)"
   ]
  },
  {
   "cell_type": "markdown",
   "id": "65e5dbd9",
   "metadata": {},
   "source": [
    "### Spilliting of array"
   ]
  },
  {
   "cell_type": "code",
   "execution_count": 203,
   "id": "685476ae",
   "metadata": {},
   "outputs": [
    {
     "name": "stdout",
     "output_type": "stream",
     "text": [
      "[array([[ 1,  2,  3],\n",
      "       [ 6,  7,  8],\n",
      "       [11, 12, 13],\n",
      "       [16, 17, 18]]), array([[  4,   5,  50],\n",
      "       [  9,  10, 100],\n",
      "       [ 14,  15, 150],\n",
      "       [ 19,  20, 200]])]\n"
     ]
    }
   ],
   "source": [
    "a = np.array(\n",
    "    [\n",
    "        [1, 2, 3, 4, 5, 50],\n",
    "        [6, 7, 8, 9, 10, 100],\n",
    "        [11, 12, 13, 14, 15, 150],\n",
    "        [16, 17, 18, 19, 20, 200],\n",
    "    ]\n",
    ")\n",
    "\n",
    "\n",
    "print(np.split(a, 2, axis=1))"
   ]
  },
  {
   "cell_type": "markdown",
   "id": "dcdbe8ef",
   "metadata": {},
   "source": [
    "### arithmetic functions"
   ]
  },
  {
   "cell_type": "code",
   "execution_count": 218,
   "id": "5c1a3e3c",
   "metadata": {},
   "outputs": [
    {
     "name": "stdout",
     "output_type": "stream",
     "text": [
      "1\n",
      "20\n",
      "10.5\n",
      "5.766281297335398\n",
      "210\n"
     ]
    }
   ],
   "source": [
    "a = np.array(\n",
    "    [[1, 2, 3, 4, 5], [6, 7, 8, 9, 10], [11, 12, 13, 14, 15], [16, 17, 18, 19, 20]]\n",
    ")\n",
    "\n",
    "\n",
    "print(a.min())\n",
    "print(a.max())\n",
    "print(a.mean())\n",
    "print(a.std())\n",
    "print(a.sum())"
   ]
  },
  {
   "cell_type": "markdown",
   "id": "7bd12e52",
   "metadata": {},
   "source": [
    "### random number generating in array\n"
   ]
  },
  {
   "cell_type": "code",
   "execution_count": null,
   "id": "f7e234e6",
   "metadata": {},
   "outputs": [
    {
     "name": "stdout",
     "output_type": "stream",
     "text": [
      "[[123 124 172 176]\n",
      " [131 155 154 110]]\n",
      "40\n"
     ]
    }
   ],
   "source": [
    "num = np.random.randint(100, 200, size=(2, 4))\n",
    "print(num)\n",
    "\n",
    "n = np.random.choice([10, 20, 30, 40, 50])\n",
    "print(n)"
   ]
  }
 ],
 "metadata": {
  "kernelspec": {
   "display_name": ".venv",
   "language": "python",
   "name": "python3"
  },
  "language_info": {
   "codemirror_mode": {
    "name": "ipython",
    "version": 3
   },
   "file_extension": ".py",
   "mimetype": "text/x-python",
   "name": "python",
   "nbconvert_exporter": "python",
   "pygments_lexer": "ipython3",
   "version": "3.11.9"
  }
 },
 "nbformat": 4,
 "nbformat_minor": 5
}
