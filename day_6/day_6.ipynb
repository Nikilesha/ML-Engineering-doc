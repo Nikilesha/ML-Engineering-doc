{
 "cells": [
  {
   "cell_type": "markdown",
   "id": "5d6dca75",
   "metadata": {},
   "source": [
    "# Mathematical Analysis of a matrix\n"
   ]
  },
  {
   "cell_type": "markdown",
   "id": "1f381769",
   "metadata": {},
   "source": [
    "### Importing modules"
   ]
  },
  {
   "cell_type": "code",
   "execution_count": 34,
   "id": "c3ea6ba1",
   "metadata": {},
   "outputs": [],
   "source": [
    "import numpy as np"
   ]
  },
  {
   "cell_type": "markdown",
   "id": "a71e23fb",
   "metadata": {},
   "source": [
    "### Coding the function"
   ]
  },
  {
   "cell_type": "code",
   "execution_count": null,
   "id": "e5d61006",
   "metadata": {},
   "outputs": [
    {
     "name": "stdout",
     "output_type": "stream",
     "text": [
      "[[338 481 153]\n",
      " [102 395 265]\n",
      " [264  12 169]]\n",
      "\n",
      "\n",
      "Mean: 242.11\n",
      "Medain: 264.0\n",
      "Standard Deviation: 140.04\n",
      "Variance: 19612.10\n",
      "Maximum value: 481\n",
      "Minimum value: 12\n",
      "Transponse of matrix: \n",
      "[[338 102 264]\n",
      " [481 395  12]\n",
      " [153 265 169]]\n",
      "Coefficient Correlation of matrix: \n",
      "[[ 1.         -0.03895484 -0.98400489]\n",
      " [-0.03895484  1.          0.21633801]\n",
      " [-0.98400489  0.21633801  1.        ]]\n"
     ]
    }
   ],
   "source": [
    "def array_init(m, n):\n",
    "    arr = np.random.randint(1, 500, size=(m, n))\n",
    "    return arr\n",
    "\n",
    "if __name__ == \"__main__\":\n",
    "    m = int(input(\"Enter size m of mxn matrix: \"))\n",
    "    n = int(input(\"Enter size n of mxn matrix: \"))\n",
    "    data = array_init(m, n)\n",
    "    print(data)\n",
    "    print(\"\\n\")\n",
    "    print(f\"Mean: {np.mean(data):.2f}\")\n",
    "    print(f\"Medain: {np.median(data)}\")\n",
    "    print(f\"Standard Deviation: {np.std(data):.2f}\")\n",
    "    print(f\"Variance: {np.var(data):.2f}\")\n",
    "    print(f\"Maximum value: {np.max(data)}\")\n",
    "    print(f\"Minimum value: {np.min(data)}\")\n",
    "    print(f\"Transponse of matrix: \\n{ data.T}\")\n",
    "    print(f\"Coefficient Correlation of matrix: \\n{np.corrcoef(data.T)}\")\n",
    "\n"
   ]
  }
 ],
 "metadata": {
  "kernelspec": {
   "display_name": ".venv",
   "language": "python",
   "name": "python3"
  },
  "language_info": {
   "codemirror_mode": {
    "name": "ipython",
    "version": 3
   },
   "file_extension": ".py",
   "mimetype": "text/x-python",
   "name": "python",
   "nbconvert_exporter": "python",
   "pygments_lexer": "ipython3",
   "version": "3.11.9"
  }
 },
 "nbformat": 4,
 "nbformat_minor": 5
}
